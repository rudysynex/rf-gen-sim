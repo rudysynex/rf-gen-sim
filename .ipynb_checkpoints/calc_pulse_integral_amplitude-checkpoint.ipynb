{
 "cells": [
  {
   "cell_type": "code",
   "execution_count": 32,
   "id": "143d4af1",
   "metadata": {},
   "outputs": [],
   "source": [
    "import numpy as np\n",
    "import matplotlib.pyplot as plt\n",
    "from AM_pulses import AM_rf"
   ]
  },
  {
   "cell_type": "markdown",
   "id": "3c75ea2f",
   "metadata": {},
   "source": [
    "# Code to calculate the pulse integral of a shaped pulse as a % of a square pulse. This value can be used to calculate the RF power/amplitude required for a shaped pulse (in kHz)"
   ]
  },
  {
   "cell_type": "code",
   "execution_count": 43,
   "id": "3a05d0ae",
   "metadata": {},
   "outputs": [
    {
     "data": {
      "text/plain": [
       "[<matplotlib.lines.Line2D at 0x27b14fafdf0>]"
      ]
     },
     "execution_count": 43,
     "metadata": {},
     "output_type": "execute_result"
    },
    {
     "data": {
      "image/png": "[encoded data removed]",
      "text/plain": [
       "<Figure size 432x288 with 1 Axes>"
      ]
     },
     "metadata": {
      "needs_background": "light"
     },
     "output_type": "display_data"
    }
   ],
   "source": [
    "# generate the shape. Only need the AM waveform for this calculation\n",
    "pulse_length = 2000  #us\n",
    "shape_pts = 256\n",
    "pulse_func = 'sinc'# sinc, square, gaussian, hermite\n",
    "SINC_LOBES = 3\n",
    "GAUSSIAN_TRUNCATION = 1 # in %\n",
    "HERMITE_NUT_ANGLE = 180\n",
    "\n",
    "rf, fm, pm, time = AM_rf(func=pulse_func, shape_pts=shape_pts,\n",
    "                         pulse_length=pulse_length, lobes=SINC_LOBES,\n",
    "                         trunc_lvl=GAUSSIAN_TRUNCATION, nut_angle=HERMITE_NUT_ANGLE\n",
    "                        )\n",
    "plt.plot(time,rf) # plot only for illustration"
   ]
  },
  {
   "cell_type": "code",
   "execution_count": 44,
   "id": "68b72c9f",
   "metadata": {},
   "outputs": [
    {
     "name": "stdout",
     "output_type": "stream",
     "text": [
      "Pulse integral for this sinc pulse is:  0.1777\n"
     ]
    }
   ],
   "source": [
    "# reference square pulse \n",
    "sq_pulse = np.linspace(1,1,shape_pts)\n",
    "\n",
    "# Calulate pulse integtral\n",
    "pulse_integral = round((np.trapz(rf)/np.trapz(sq_pulse)),4)\n",
    "print('Pulse integral for this ' + pulse_func + ' pulse is: ', pulse_integral )"
   ]
  },
  {
   "cell_type": "markdown",
   "id": "a5ded80d",
   "metadata": {},
   "source": [
    "# Now use the pulse integral value to calculate the required RF power in kHz"
   ]
  },
  {
   "cell_type": "code",
   "execution_count": 45,
   "id": "5f6dadbf",
   "metadata": {},
   "outputs": [
    {
     "name": "stdout",
     "output_type": "stream",
     "text": [
      "Required RF power (in kHz) for this sinc pulse is:  0.7034\n"
     ]
    }
   ],
   "source": [
    "# Set the desired flip angle in degrees\n",
    "#pulse length declared previously will be used, converted to ms\n",
    "flip_angle = 90 #degrees\n",
    "\n",
    "rf_power = round((flip_angle/(360*pulse_integral*pulse_length*1e-3)),4)\n",
    "print('Required RF power (in kHz) for this ' + pulse_func + ' pulse is: ', rf_power)"
   ]
  },
  {
   "cell_type": "code",
   "execution_count": 46,
   "id": "9f84c83c",
   "metadata": {},
   "outputs": [
    {
     "name": "stdout",
     "output_type": "stream",
     "text": [
      "Required RF power (in uT) for this sinc pulse is:  16.52\n"
     ]
    }
   ],
   "source": [
    "# Convert kHz to microtesla (uT)\n",
    "gamma = 42.57 #kHz/mT, gyrommagnetic ratio\n",
    "rf_power_uT = round(((1e3*rf_power)/gamma),2)\n",
    "\n",
    "print('Required RF power (in uT) for this ' + pulse_func + ' pulse is: ', rf_power_uT)"
   ]
  },
  {
   "cell_type": "code",
   "execution_count": null,
   "id": "b62302b6",
   "metadata": {},
   "outputs": [],
   "source": []
  }
 ],
 "metadata": {
  "kernelspec": {
   "display_name": "Python 3 (ipykernel)",
   "language": "python",
   "name": "python3"
  },
  "language_info": {
   "codemirror_mode": {
    "name": "ipython",
    "version": 3
   },
   "file_extension": ".py",
   "mimetype": "text/x-python",
   "name": "python",
   "nbconvert_exporter": "python",
   "pygments_lexer": "ipython3",
   "version": "3.9.7"
  }
 },
 "nbformat": 4,
 "nbformat_minor": 5
}
